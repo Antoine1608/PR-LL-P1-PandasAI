{
 "cells": [
  {
   "cell_type": "code",
   "execution_count": 2,
   "id": "14caa76f-1d3d-43ec-a778-457af543657e",
   "metadata": {
    "scrolled": true
   },
   "outputs": [
    {
     "name": "stdout",
     "output_type": "stream",
     "text": [
      "Requirement already satisfied: openai==1.3.5 in c:\\users\\john\\desktop\\venv\\lib\\site-packages (from -r requirements.txt (line 1)) (1.3.5)\n",
      "Requirement already satisfied: pandas==1.5.3 in c:\\users\\john\\desktop\\venv\\lib\\site-packages (from -r requirements.txt (line 2)) (1.5.3)\n",
      "Requirement already satisfied: pandasai==1.5.4 in c:\\users\\john\\desktop\\venv\\lib\\site-packages (from -r requirements.txt (line 3)) (1.5.4)\n",
      "Requirement already satisfied: python-dotenv==1.0.0 in c:\\users\\john\\desktop\\venv\\lib\\site-packages (from -r requirements.txt (line 4)) (1.0.0)\n",
      "Requirement already satisfied: anyio<4,>=3.5.0 in c:\\users\\john\\desktop\\venv\\lib\\site-packages (from openai==1.3.5->-r requirements.txt (line 1)) (3.7.1)\n",
      "Requirement already satisfied: distro<2,>=1.7.0 in c:\\users\\john\\desktop\\venv\\lib\\site-packages (from openai==1.3.5->-r requirements.txt (line 1)) (1.8.0)\n",
      "Requirement already satisfied: httpx<1,>=0.23.0 in c:\\users\\john\\desktop\\venv\\lib\\site-packages (from openai==1.3.5->-r requirements.txt (line 1)) (0.25.2)\n",
      "Requirement already satisfied: pydantic<3,>=1.9.0 in c:\\users\\john\\desktop\\venv\\lib\\site-packages (from openai==1.3.5->-r requirements.txt (line 1)) (1.10.13)\n",
      "Requirement already satisfied: tqdm>4 in c:\\users\\john\\desktop\\venv\\lib\\site-packages (from openai==1.3.5->-r requirements.txt (line 1)) (4.66.1)\n",
      "Requirement already satisfied: typing-extensions<5,>=4.5 in c:\\users\\john\\desktop\\venv\\lib\\site-packages (from openai==1.3.5->-r requirements.txt (line 1)) (4.8.0)\n",
      "Requirement already satisfied: python-dateutil>=2.8.1 in c:\\users\\john\\desktop\\venv\\lib\\site-packages (from pandas==1.5.3->-r requirements.txt (line 2)) (2.8.2)\n",
      "Requirement already satisfied: pytz>=2020.1 in c:\\users\\john\\desktop\\venv\\lib\\site-packages (from pandas==1.5.3->-r requirements.txt (line 2)) (2023.3.post1)\n",
      "Requirement already satisfied: numpy>=1.20.3 in c:\\users\\john\\desktop\\venv\\lib\\site-packages (from pandas==1.5.3->-r requirements.txt (line 2)) (1.23.5)\n",
      "Requirement already satisfied: astor<0.9.0,>=0.8.1 in c:\\users\\john\\desktop\\venv\\lib\\site-packages (from pandasai==1.5.4->-r requirements.txt (line 3)) (0.8.1)\n",
      "Requirement already satisfied: duckdb<0.9.0,>=0.8.1 in c:\\users\\john\\desktop\\venv\\lib\\site-packages (from pandasai==1.5.4->-r requirements.txt (line 3)) (0.8.1)\n",
      "Requirement already satisfied: faker<20.0.0,>=19.12.0 in c:\\users\\john\\desktop\\venv\\lib\\site-packages (from pandasai==1.5.4->-r requirements.txt (line 3)) (19.13.0)\n",
      "Requirement already satisfied: ipython<9.0.0,>=8.13.1 in c:\\users\\john\\desktop\\venv\\lib\\site-packages (from pandasai==1.5.4->-r requirements.txt (line 3)) (8.17.2)\n",
      "Requirement already satisfied: matplotlib<4.0.0,>=3.7.1 in c:\\users\\john\\desktop\\venv\\lib\\site-packages (from pandasai==1.5.4->-r requirements.txt (line 3)) (3.8.0)\n",
      "Requirement already satisfied: pillow<11.0.0,>=10.1.0 in c:\\users\\john\\desktop\\venv\\lib\\site-packages (from pandasai==1.5.4->-r requirements.txt (line 3)) (10.1.0)\n",
      "Requirement already satisfied: scipy<2.0.0,>=1.9.0 in c:\\users\\john\\desktop\\venv\\lib\\site-packages (from pandasai==1.5.4->-r requirements.txt (line 3)) (1.10.1)\n",
      "Requirement already satisfied: sqlalchemy<2.0.0,>=1.4.49 in c:\\users\\john\\desktop\\venv\\lib\\site-packages (from pandasai==1.5.4->-r requirements.txt (line 3)) (1.4.50)\n",
      "Requirement already satisfied: idna>=2.8 in c:\\users\\john\\desktop\\venv\\lib\\site-packages (from anyio<4,>=3.5.0->openai==1.3.5->-r requirements.txt (line 1)) (3.4)\n",
      "Requirement already satisfied: sniffio>=1.1 in c:\\users\\john\\desktop\\venv\\lib\\site-packages (from anyio<4,>=3.5.0->openai==1.3.5->-r requirements.txt (line 1)) (1.3.0)\n",
      "Requirement already satisfied: exceptiongroup in c:\\users\\john\\desktop\\venv\\lib\\site-packages (from anyio<4,>=3.5.0->openai==1.3.5->-r requirements.txt (line 1)) (1.1.3)\n",
      "Requirement already satisfied: certifi in c:\\users\\john\\desktop\\venv\\lib\\site-packages (from httpx<1,>=0.23.0->openai==1.3.5->-r requirements.txt (line 1)) (2023.7.22)\n",
      "Requirement already satisfied: httpcore==1.* in c:\\users\\john\\desktop\\venv\\lib\\site-packages (from httpx<1,>=0.23.0->openai==1.3.5->-r requirements.txt (line 1)) (1.0.2)\n",
      "Requirement already satisfied: h11<0.15,>=0.13 in c:\\users\\john\\desktop\\venv\\lib\\site-packages (from httpcore==1.*->httpx<1,>=0.23.0->openai==1.3.5->-r requirements.txt (line 1)) (0.14.0)\n",
      "Requirement already satisfied: decorator in c:\\users\\john\\desktop\\venv\\lib\\site-packages (from ipython<9.0.0,>=8.13.1->pandasai==1.5.4->-r requirements.txt (line 3)) (5.1.1)\n",
      "Requirement already satisfied: jedi>=0.16 in c:\\users\\john\\desktop\\venv\\lib\\site-packages (from ipython<9.0.0,>=8.13.1->pandasai==1.5.4->-r requirements.txt (line 3)) (0.19.1)\n",
      "Requirement already satisfied: matplotlib-inline in c:\\users\\john\\desktop\\venv\\lib\\site-packages (from ipython<9.0.0,>=8.13.1->pandasai==1.5.4->-r requirements.txt (line 3)) (0.1.6)\n",
      "Requirement already satisfied: prompt-toolkit!=3.0.37,<3.1.0,>=3.0.30 in c:\\users\\john\\desktop\\venv\\lib\\site-packages (from ipython<9.0.0,>=8.13.1->pandasai==1.5.4->-r requirements.txt (line 3)) (3.0.39)\n",
      "Requirement already satisfied: pygments>=2.4.0 in c:\\users\\john\\desktop\\venv\\lib\\site-packages (from ipython<9.0.0,>=8.13.1->pandasai==1.5.4->-r requirements.txt (line 3)) (2.16.1)\n",
      "Requirement already satisfied: stack-data in c:\\users\\john\\desktop\\venv\\lib\\site-packages (from ipython<9.0.0,>=8.13.1->pandasai==1.5.4->-r requirements.txt (line 3)) (0.6.3)\n",
      "Requirement already satisfied: traitlets>=5 in c:\\users\\john\\desktop\\venv\\lib\\site-packages (from ipython<9.0.0,>=8.13.1->pandasai==1.5.4->-r requirements.txt (line 3)) (5.13.0)\n",
      "Requirement already satisfied: colorama in c:\\users\\john\\desktop\\venv\\lib\\site-packages (from ipython<9.0.0,>=8.13.1->pandasai==1.5.4->-r requirements.txt (line 3)) (0.4.6)\n",
      "Requirement already satisfied: contourpy>=1.0.1 in c:\\users\\john\\desktop\\venv\\lib\\site-packages (from matplotlib<4.0.0,>=3.7.1->pandasai==1.5.4->-r requirements.txt (line 3)) (1.2.0)\n",
      "Requirement already satisfied: cycler>=0.10 in c:\\users\\john\\desktop\\venv\\lib\\site-packages (from matplotlib<4.0.0,>=3.7.1->pandasai==1.5.4->-r requirements.txt (line 3)) (0.12.1)\n",
      "Requirement already satisfied: fonttools>=4.22.0 in c:\\users\\john\\desktop\\venv\\lib\\site-packages (from matplotlib<4.0.0,>=3.7.1->pandasai==1.5.4->-r requirements.txt (line 3)) (4.44.0)\n",
      "Requirement already satisfied: kiwisolver>=1.0.1 in c:\\users\\john\\desktop\\venv\\lib\\site-packages (from matplotlib<4.0.0,>=3.7.1->pandasai==1.5.4->-r requirements.txt (line 3)) (1.4.5)\n",
      "Requirement already satisfied: packaging>=20.0 in c:\\users\\john\\desktop\\venv\\lib\\site-packages (from matplotlib<4.0.0,>=3.7.1->pandasai==1.5.4->-r requirements.txt (line 3)) (23.2)\n",
      "Requirement already satisfied: pyparsing>=2.3.1 in c:\\users\\john\\desktop\\venv\\lib\\site-packages (from matplotlib<4.0.0,>=3.7.1->pandasai==1.5.4->-r requirements.txt (line 3)) (3.1.1)\n",
      "Requirement already satisfied: importlib-resources>=3.2.0 in c:\\users\\john\\desktop\\venv\\lib\\site-packages (from matplotlib<4.0.0,>=3.7.1->pandasai==1.5.4->-r requirements.txt (line 3)) (6.1.0)\n",
      "Requirement already satisfied: six>=1.5 in c:\\users\\john\\desktop\\venv\\lib\\site-packages (from python-dateutil>=2.8.1->pandas==1.5.3->-r requirements.txt (line 2)) (1.16.0)\n",
      "Requirement already satisfied: greenlet!=0.4.17 in c:\\users\\john\\desktop\\venv\\lib\\site-packages (from sqlalchemy<2.0.0,>=1.4.49->pandasai==1.5.4->-r requirements.txt (line 3)) (3.0.1)\n",
      "Requirement already satisfied: zipp>=3.1.0 in c:\\users\\john\\desktop\\venv\\lib\\site-packages (from importlib-resources>=3.2.0->matplotlib<4.0.0,>=3.7.1->pandasai==1.5.4->-r requirements.txt (line 3)) (3.17.0)\n",
      "Requirement already satisfied: parso<0.9.0,>=0.8.3 in c:\\users\\john\\desktop\\venv\\lib\\site-packages (from jedi>=0.16->ipython<9.0.0,>=8.13.1->pandasai==1.5.4->-r requirements.txt (line 3)) (0.8.3)\n",
      "Requirement already satisfied: wcwidth in c:\\users\\john\\desktop\\venv\\lib\\site-packages (from prompt-toolkit!=3.0.37,<3.1.0,>=3.0.30->ipython<9.0.0,>=8.13.1->pandasai==1.5.4->-r requirements.txt (line 3)) (0.2.9)\n",
      "Requirement already satisfied: executing>=1.2.0 in c:\\users\\john\\desktop\\venv\\lib\\site-packages (from stack-data->ipython<9.0.0,>=8.13.1->pandasai==1.5.4->-r requirements.txt (line 3)) (2.0.1)\n",
      "Requirement already satisfied: asttokens>=2.1.0 in c:\\users\\john\\desktop\\venv\\lib\\site-packages (from stack-data->ipython<9.0.0,>=8.13.1->pandasai==1.5.4->-r requirements.txt (line 3)) (2.4.1)\n",
      "Requirement already satisfied: pure-eval in c:\\users\\john\\desktop\\venv\\lib\\site-packages (from stack-data->ipython<9.0.0,>=8.13.1->pandasai==1.5.4->-r requirements.txt (line 3)) (0.2.2)\n"
     ]
    }
   ],
   "source": [
    "#!pip install -r requirements.txt"
   ]
  },
  {
   "cell_type": "code",
   "execution_count": 3,
   "id": "4978e047-8082-4606-a1b7-01149dbc743f",
   "metadata": {},
   "outputs": [
    {
     "data": {
      "text/plain": [
       "True"
      ]
     },
     "execution_count": 3,
     "metadata": {},
     "output_type": "execute_result"
    }
   ],
   "source": [
    "from dotenv import load_dotenv\n",
    "import os\n",
    "import pandas as pd\n",
    "from pandasai import SmartDataframe\n",
    "from pandasai.llm import OpenAI\n",
    "\n",
    "\n",
    "load_dotenv()"
   ]
  },
  {
   "cell_type": "code",
   "execution_count": 4,
   "id": "601fc3a8-2a0b-46d5-a8a0-8bf12163a510",
   "metadata": {},
   "outputs": [],
   "source": [
    "openai_api_key  = os.environ.get('OPENAI_API_KEY')"
   ]
  },
  {
   "cell_type": "code",
   "execution_count": 5,
   "id": "a372da6f-5f6e-4111-b6d8-c491e2ecf6a1",
   "metadata": {},
   "outputs": [],
   "source": [
    "llm = OpenAI(api_token=openai_api_key)\n",
    "#llm = OpenAI(api_token='sk-xxxxx')"
   ]
  },
  {
   "cell_type": "code",
   "execution_count": 6,
   "id": "fee4cb32-e7cc-4a3e-8785-6e2ee765c485",
   "metadata": {},
   "outputs": [
    {
     "data": {
      "text/html": [
       "<div>\n",
       "<style scoped>\n",
       "    .dataframe tbody tr th:only-of-type {\n",
       "        vertical-align: middle;\n",
       "    }\n",
       "\n",
       "    .dataframe tbody tr th {\n",
       "        vertical-align: top;\n",
       "    }\n",
       "\n",
       "    .dataframe thead th {\n",
       "        text-align: right;\n",
       "    }\n",
       "</style>\n",
       "<table border=\"1\" class=\"dataframe\">\n",
       "  <thead>\n",
       "    <tr style=\"text-align: right;\">\n",
       "      <th></th>\n",
       "      <th>Store</th>\n",
       "      <th>Date</th>\n",
       "      <th>Weekly_Sales</th>\n",
       "      <th>Holiday_Flag</th>\n",
       "      <th>Temperature</th>\n",
       "      <th>Fuel_Price</th>\n",
       "      <th>CPI</th>\n",
       "      <th>Unemployment</th>\n",
       "    </tr>\n",
       "  </thead>\n",
       "  <tbody>\n",
       "    <tr>\n",
       "      <th>0</th>\n",
       "      <td>1</td>\n",
       "      <td>05-02-2010</td>\n",
       "      <td>1643690.90</td>\n",
       "      <td>0</td>\n",
       "      <td>42.31</td>\n",
       "      <td>2.572</td>\n",
       "      <td>211.096358</td>\n",
       "      <td>8.106</td>\n",
       "    </tr>\n",
       "    <tr>\n",
       "      <th>1</th>\n",
       "      <td>1</td>\n",
       "      <td>12-02-2010</td>\n",
       "      <td>1641957.44</td>\n",
       "      <td>1</td>\n",
       "      <td>38.51</td>\n",
       "      <td>2.548</td>\n",
       "      <td>211.242170</td>\n",
       "      <td>8.106</td>\n",
       "    </tr>\n",
       "    <tr>\n",
       "      <th>2</th>\n",
       "      <td>1</td>\n",
       "      <td>19-02-2010</td>\n",
       "      <td>1611968.17</td>\n",
       "      <td>0</td>\n",
       "      <td>39.93</td>\n",
       "      <td>2.514</td>\n",
       "      <td>211.289143</td>\n",
       "      <td>8.106</td>\n",
       "    </tr>\n",
       "    <tr>\n",
       "      <th>3</th>\n",
       "      <td>1</td>\n",
       "      <td>26-02-2010</td>\n",
       "      <td>1409727.59</td>\n",
       "      <td>0</td>\n",
       "      <td>46.63</td>\n",
       "      <td>2.561</td>\n",
       "      <td>211.319643</td>\n",
       "      <td>8.106</td>\n",
       "    </tr>\n",
       "    <tr>\n",
       "      <th>4</th>\n",
       "      <td>1</td>\n",
       "      <td>05-03-2010</td>\n",
       "      <td>1554806.68</td>\n",
       "      <td>0</td>\n",
       "      <td>46.50</td>\n",
       "      <td>2.625</td>\n",
       "      <td>211.350143</td>\n",
       "      <td>8.106</td>\n",
       "    </tr>\n",
       "    <tr>\n",
       "      <th>...</th>\n",
       "      <td>...</td>\n",
       "      <td>...</td>\n",
       "      <td>...</td>\n",
       "      <td>...</td>\n",
       "      <td>...</td>\n",
       "      <td>...</td>\n",
       "      <td>...</td>\n",
       "      <td>...</td>\n",
       "    </tr>\n",
       "    <tr>\n",
       "      <th>95</th>\n",
       "      <td>1</td>\n",
       "      <td>02-12-2011</td>\n",
       "      <td>1584083.95</td>\n",
       "      <td>0</td>\n",
       "      <td>48.91</td>\n",
       "      <td>3.172</td>\n",
       "      <td>218.714733</td>\n",
       "      <td>7.866</td>\n",
       "    </tr>\n",
       "    <tr>\n",
       "      <th>96</th>\n",
       "      <td>1</td>\n",
       "      <td>09-12-2011</td>\n",
       "      <td>1799682.38</td>\n",
       "      <td>0</td>\n",
       "      <td>43.93</td>\n",
       "      <td>3.158</td>\n",
       "      <td>218.961846</td>\n",
       "      <td>7.866</td>\n",
       "    </tr>\n",
       "    <tr>\n",
       "      <th>97</th>\n",
       "      <td>1</td>\n",
       "      <td>16-12-2011</td>\n",
       "      <td>1881176.67</td>\n",
       "      <td>0</td>\n",
       "      <td>51.63</td>\n",
       "      <td>3.159</td>\n",
       "      <td>219.179453</td>\n",
       "      <td>7.866</td>\n",
       "    </tr>\n",
       "    <tr>\n",
       "      <th>98</th>\n",
       "      <td>1</td>\n",
       "      <td>23-12-2011</td>\n",
       "      <td>2270188.99</td>\n",
       "      <td>0</td>\n",
       "      <td>47.96</td>\n",
       "      <td>3.112</td>\n",
       "      <td>219.357722</td>\n",
       "      <td>7.866</td>\n",
       "    </tr>\n",
       "    <tr>\n",
       "      <th>99</th>\n",
       "      <td>1</td>\n",
       "      <td>30-12-2011</td>\n",
       "      <td>1497462.72</td>\n",
       "      <td>1</td>\n",
       "      <td>44.55</td>\n",
       "      <td>3.129</td>\n",
       "      <td>219.535990</td>\n",
       "      <td>7.866</td>\n",
       "    </tr>\n",
       "  </tbody>\n",
       "</table>\n",
       "<p>100 rows × 8 columns</p>\n",
       "</div>"
      ],
      "text/plain": [
       "    Store        Date  Weekly_Sales  Holiday_Flag  Temperature  Fuel_Price  \\\n",
       "0       1  05-02-2010    1643690.90             0        42.31       2.572   \n",
       "1       1  12-02-2010    1641957.44             1        38.51       2.548   \n",
       "2       1  19-02-2010    1611968.17             0        39.93       2.514   \n",
       "3       1  26-02-2010    1409727.59             0        46.63       2.561   \n",
       "4       1  05-03-2010    1554806.68             0        46.50       2.625   \n",
       "..    ...         ...           ...           ...          ...         ...   \n",
       "95      1  02-12-2011    1584083.95             0        48.91       3.172   \n",
       "96      1  09-12-2011    1799682.38             0        43.93       3.158   \n",
       "97      1  16-12-2011    1881176.67             0        51.63       3.159   \n",
       "98      1  23-12-2011    2270188.99             0        47.96       3.112   \n",
       "99      1  30-12-2011    1497462.72             1        44.55       3.129   \n",
       "\n",
       "           CPI  Unemployment  \n",
       "0   211.096358         8.106  \n",
       "1   211.242170         8.106  \n",
       "2   211.289143         8.106  \n",
       "3   211.319643         8.106  \n",
       "4   211.350143         8.106  \n",
       "..         ...           ...  \n",
       "95  218.714733         7.866  \n",
       "96  218.961846         7.866  \n",
       "97  219.179453         7.866  \n",
       "98  219.357722         7.866  \n",
       "99  219.535990         7.866  \n",
       "\n",
       "[100 rows x 8 columns]"
      ]
     },
     "execution_count": 6,
     "metadata": {},
     "output_type": "execute_result"
    }
   ],
   "source": [
    "df = pd.read_csv(\".\\Walmart.csv\")\n",
    "df.head(100)"
   ]
  },
  {
   "cell_type": "code",
   "execution_count": 7,
   "id": "2aace681-6e3b-4fa1-a0c7-baa7df59ce3c",
   "metadata": {},
   "outputs": [],
   "source": [
    "chat_df = SmartDataframe(df, config={\"llm\": llm})"
   ]
  },
  {
   "cell_type": "code",
   "execution_count": 8,
   "id": "1d09fa89-200e-4217-99d4-d910bafba213",
   "metadata": {},
   "outputs": [
    {
     "data": {
      "text/plain": [
       "\"Unfortunately, I was not able to answer your question, because of the following error:\\n\\nError code: 429 - {'error': {'message': 'You exceeded your current quota, please check your plan and billing details.', 'type': 'insufficient_quota', 'param': None, 'code': 'insufficient_quota'}}\\n\""
      ]
     },
     "execution_count": 8,
     "metadata": {},
     "output_type": "execute_result"
    }
   ],
   "source": [
    "chat_df.chat(\"Which store region has the highest temperature\")"
   ]
  },
  {
   "cell_type": "code",
   "execution_count": 9,
   "id": "5105eac0-8582-41fe-a98f-5e5a238ee613",
   "metadata": {},
   "outputs": [],
   "source": [
    "#from pandasai.llm.falcon import Falcon\n",
    "from pandasai.llm.base import HuggingFaceLLM"
   ]
  },
  {
   "cell_type": "code",
   "execution_count": 13,
   "id": "890d6975-c9e1-4829-9119-6d9d78f44dfa",
   "metadata": {},
   "outputs": [],
   "source": [
    "llm = HuggingFaceLLM(api_token='HF_API_KEY')\n",
    "#llm = HuggingFaceLLM(api_token=\"xxx\")"
   ]
  },
  {
   "cell_type": "code",
   "execution_count": 14,
   "id": "92d7dc2d-abca-4829-90fa-2d7272c28bda",
   "metadata": {},
   "outputs": [],
   "source": [
    "chat_df = SmartDataframe(df, config={\"llm\": llm})"
   ]
  },
  {
   "cell_type": "code",
   "execution_count": 15,
   "id": "be848262-eee8-4aa6-b134-cfd0bce8cc91",
   "metadata": {},
   "outputs": [
    {
     "data": {
      "text/plain": [
       "'Unfortunately, I was not able to answer your question, because of the following error:\\n\\nThe remote server has responded with an error HTTP code: 500; HfApiJson(Payload(Overflow))\\n'"
      ]
     },
     "execution_count": 15,
     "metadata": {},
     "output_type": "execute_result"
    }
   ],
   "source": [
    "chat_df.chat(\"hi ?\")"
   ]
  }
 ],
 "metadata": {
  "kernelspec": {
   "display_name": "Python 3 (ipykernel)",
   "language": "python",
   "name": "python3"
  },
  "language_info": {
   "codemirror_mode": {
    "name": "ipython",
    "version": 3
   },
   "file_extension": ".py",
   "mimetype": "text/x-python",
   "name": "python",
   "nbconvert_exporter": "python",
   "pygments_lexer": "ipython3",
   "version": "3.9.13"
  }
 },
 "nbformat": 4,
 "nbformat_minor": 5
}
